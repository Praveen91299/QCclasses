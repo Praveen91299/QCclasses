{
 "cells": [
  {
   "cell_type": "markdown",
   "metadata": {},
   "source": [
    "# Quantum computing 0 - 100  \n",
    "Introduction, with Qiskit"
   ]
  },
  {
   "cell_type": "markdown",
   "metadata": {},
   "source": [
    "### Using conda (optional)  \n",
    "To create a conda environment (an isolated workspace with minimal packages), use \n",
    "``conda create -n qc_classes python=3``  \n",
    "To use this environment  \n",
    "``conda activate qc_classes``  \n",
    "\n",
    "\n",
    "To install Jupyter notebook, use ``pip install jupyter``"
   ]
  },
  {
   "cell_type": "markdown",
   "metadata": {},
   "source": [
    "### Installation and setting up qiskit  \n",
    "Qiskit is an open source python based software to simulate and access existing quantum computers provided by IBM. \n",
    "You can use Qiskit online on their platform directly at https://quantum-computing.ibm.com/  \n",
    "\n",
    "The online platform allows you to create and run jupyter notebooks and also has a drag and drop circuit editor with numerous visualization tools. We will try out both now.\n",
    "\n",
    "\n",
    "To install qiskit, simply run the below command."
   ]
  },
  {
   "cell_type": "code",
   "execution_count": 6,
   "metadata": {},
   "outputs": [
    {
     "name": "stdout",
     "output_type": "stream",
     "text": [
      "Requirement already satisfied: qiskit in /home/praveen/anaconda3/lib/python3.7/site-packages (0.25.0)\n",
      "Requirement already satisfied: qiskit-terra==0.17.0 in /home/praveen/anaconda3/lib/python3.7/site-packages (from qiskit) (0.17.0)\n",
      "Requirement already satisfied: qiskit-ignis==0.6.0 in /home/praveen/anaconda3/lib/python3.7/site-packages (from qiskit) (0.6.0)\n",
      "Requirement already satisfied: qiskit-ibmq-provider==0.12.2 in /home/praveen/anaconda3/lib/python3.7/site-packages (from qiskit) (0.12.2)\n",
      "Requirement already satisfied: qiskit-aqua==0.9.0 in /home/praveen/anaconda3/lib/python3.7/site-packages (from qiskit) (0.9.0)\n",
      "Requirement already satisfied: qiskit-aer==0.8.0 in /home/praveen/anaconda3/lib/python3.7/site-packages (from qiskit) (0.8.0)\n",
      "Requirement already satisfied: ply>=3.10 in /home/praveen/anaconda3/lib/python3.7/site-packages (from qiskit-terra==0.17.0->qiskit) (3.11)\n",
      "Requirement already satisfied: sympy>=1.3 in /home/praveen/anaconda3/lib/python3.7/site-packages (from qiskit-terra==0.17.0->qiskit) (1.6.2)\n",
      "Requirement already satisfied: fastjsonschema>=2.10 in /home/praveen/anaconda3/lib/python3.7/site-packages (from qiskit-terra==0.17.0->qiskit) (2.14.4)\n",
      "Requirement already satisfied: scipy>=1.4 in /home/praveen/anaconda3/lib/python3.7/site-packages (from qiskit-terra==0.17.0->qiskit) (1.5.2)\n",
      "Requirement already satisfied: retworkx>=0.8.0 in /home/praveen/anaconda3/lib/python3.7/site-packages (from qiskit-terra==0.17.0->qiskit) (0.8.0)\n",
      "Requirement already satisfied: python-constraint>=1.4 in /home/praveen/anaconda3/lib/python3.7/site-packages (from qiskit-terra==0.17.0->qiskit) (1.4.0)\n",
      "Requirement already satisfied: dill>=0.3 in /home/praveen/anaconda3/lib/python3.7/site-packages (from qiskit-terra==0.17.0->qiskit) (0.3.1.1)\n",
      "Requirement already satisfied: jsonschema>=2.6 in /home/praveen/anaconda3/lib/python3.7/site-packages (from qiskit-terra==0.17.0->qiskit) (3.2.0)\n",
      "Requirement already satisfied: psutil>=5 in /home/praveen/anaconda3/lib/python3.7/site-packages (from qiskit-terra==0.17.0->qiskit) (5.7.2)\n",
      "Requirement already satisfied: python-dateutil>=2.8.0 in /home/praveen/anaconda3/lib/python3.7/site-packages (from qiskit-terra==0.17.0->qiskit) (2.8.1)\n",
      "Requirement already satisfied: numpy>=1.17 in /home/praveen/anaconda3/lib/python3.7/site-packages (from qiskit-terra==0.17.0->qiskit) (1.19.1)\n",
      "Requirement already satisfied: setuptools>=40.1.0 in /home/praveen/anaconda3/lib/python3.7/site-packages (from qiskit-ignis==0.6.0->qiskit) (50.3.0.post20201006)\n",
      "Requirement already satisfied: requests>=2.19 in /home/praveen/anaconda3/lib/python3.7/site-packages (from qiskit-ibmq-provider==0.12.2->qiskit) (2.24.0)\n",
      "Requirement already satisfied: websockets>=8 in /home/praveen/anaconda3/lib/python3.7/site-packages (from qiskit-ibmq-provider==0.12.2->qiskit) (8.1)\n",
      "Requirement already satisfied: nest-asyncio!=1.1.0,>=1.0.0 in /home/praveen/anaconda3/lib/python3.7/site-packages (from qiskit-ibmq-provider==0.12.2->qiskit) (1.4.1)\n",
      "Requirement already satisfied: urllib3>=1.21.1 in /home/praveen/anaconda3/lib/python3.7/site-packages (from qiskit-ibmq-provider==0.12.2->qiskit) (1.25.10)\n",
      "Requirement already satisfied: requests-ntlm>=1.1.0 in /home/praveen/anaconda3/lib/python3.7/site-packages (from qiskit-ibmq-provider==0.12.2->qiskit) (1.1.0)\n",
      "Requirement already satisfied: h5py<=3.1.0 in /home/praveen/anaconda3/lib/python3.7/site-packages (from qiskit-aqua==0.9.0->qiskit) (2.10.0)\n",
      "Requirement already satisfied: quandl<=3.6.0 in /home/praveen/anaconda3/lib/python3.7/site-packages (from qiskit-aqua==0.9.0->qiskit) (3.5.0)\n",
      "Requirement already satisfied: fastdtw<=0.3.4 in /home/praveen/anaconda3/lib/python3.7/site-packages (from qiskit-aqua==0.9.0->qiskit) (0.3.4)\n",
      "Requirement already satisfied: yfinance<=0.1.55 in /home/praveen/anaconda3/lib/python3.7/site-packages (from qiskit-aqua==0.9.0->qiskit) (0.1.54)\n",
      "Requirement already satisfied: docplex<=2.20.204; sys_platform != \"darwin\" in /home/praveen/anaconda3/lib/python3.7/site-packages (from qiskit-aqua==0.9.0->qiskit) (2.13.184)\n",
      "Requirement already satisfied: dlx<=1.0.4 in /home/praveen/anaconda3/lib/python3.7/site-packages (from qiskit-aqua==0.9.0->qiskit) (1.0.4)\n",
      "Requirement already satisfied: scikit-learn<=0.24.1,>=0.20.0 in /home/praveen/anaconda3/lib/python3.7/site-packages (from qiskit-aqua==0.9.0->qiskit) (0.22.1)\n",
      "Requirement already satisfied: pandas<=1.2.3 in /home/praveen/anaconda3/lib/python3.7/site-packages (from qiskit-aqua==0.9.0->qiskit) (1.1.3)\n",
      "Requirement already satisfied: pybind11>=2.6 in /home/praveen/anaconda3/lib/python3.7/site-packages (from qiskit-aer==0.8.0->qiskit) (2.6.2)\n",
      "Requirement already satisfied: mpmath>=0.19 in /home/praveen/anaconda3/lib/python3.7/site-packages (from sympy>=1.3->qiskit-terra==0.17.0->qiskit) (1.1.0)\n",
      "Requirement already satisfied: pyrsistent>=0.14.0 in /home/praveen/anaconda3/lib/python3.7/site-packages (from jsonschema>=2.6->qiskit-terra==0.17.0->qiskit) (0.17.3)\n",
      "Requirement already satisfied: six>=1.11.0 in /home/praveen/anaconda3/lib/python3.7/site-packages (from jsonschema>=2.6->qiskit-terra==0.17.0->qiskit) (1.15.0)\n",
      "Requirement already satisfied: attrs>=17.4.0 in /home/praveen/anaconda3/lib/python3.7/site-packages (from jsonschema>=2.6->qiskit-terra==0.17.0->qiskit) (20.2.0)\n",
      "Requirement already satisfied: importlib-metadata; python_version < \"3.8\" in /home/praveen/anaconda3/lib/python3.7/site-packages (from jsonschema>=2.6->qiskit-terra==0.17.0->qiskit) (1.7.0)\n",
      "Requirement already satisfied: certifi>=2017.4.17 in /home/praveen/anaconda3/lib/python3.7/site-packages (from requests>=2.19->qiskit-ibmq-provider==0.12.2->qiskit) (2020.6.20)\n",
      "Requirement already satisfied: chardet<4,>=3.0.2 in /home/praveen/anaconda3/lib/python3.7/site-packages (from requests>=2.19->qiskit-ibmq-provider==0.12.2->qiskit) (3.0.4)\n",
      "Requirement already satisfied: idna<3,>=2.5 in /home/praveen/anaconda3/lib/python3.7/site-packages (from requests>=2.19->qiskit-ibmq-provider==0.12.2->qiskit) (2.10)\n",
      "Requirement already satisfied: cryptography>=1.3 in /home/praveen/anaconda3/lib/python3.7/site-packages (from requests-ntlm>=1.1.0->qiskit-ibmq-provider==0.12.2->qiskit) (3.1.1)\n",
      "Requirement already satisfied: ntlm-auth>=1.0.2 in /home/praveen/anaconda3/lib/python3.7/site-packages (from requests-ntlm>=1.1.0->qiskit-ibmq-provider==0.12.2->qiskit) (1.4.0)\n",
      "Requirement already satisfied: more-itertools in /home/praveen/anaconda3/lib/python3.7/site-packages (from quandl<=3.6.0->qiskit-aqua==0.9.0->qiskit) (8.5.0)\n",
      "Requirement already satisfied: inflection>=0.3.1 in /home/praveen/anaconda3/lib/python3.7/site-packages (from quandl<=3.6.0->qiskit-aqua==0.9.0->qiskit) (0.3.1)\n",
      "Requirement already satisfied: multitasking>=0.0.7 in /home/praveen/anaconda3/lib/python3.7/site-packages (from yfinance<=0.1.55->qiskit-aqua==0.9.0->qiskit) (0.0.9)\n",
      "Requirement already satisfied: joblib>=0.11 in /home/praveen/anaconda3/lib/python3.7/site-packages (from scikit-learn<=0.24.1,>=0.20.0->qiskit-aqua==0.9.0->qiskit) (0.17.0)\n",
      "Requirement already satisfied: pytz>=2017.2 in /home/praveen/anaconda3/lib/python3.7/site-packages (from pandas<=1.2.3->qiskit-aqua==0.9.0->qiskit) (2020.1)\n",
      "Requirement already satisfied: zipp>=0.5 in /home/praveen/anaconda3/lib/python3.7/site-packages (from importlib-metadata; python_version < \"3.8\"->jsonschema>=2.6->qiskit-terra==0.17.0->qiskit) (3.3.0)\n",
      "Requirement already satisfied: cffi!=1.11.3,>=1.8 in /home/praveen/anaconda3/lib/python3.7/site-packages (from cryptography>=1.3->requests-ntlm>=1.1.0->qiskit-ibmq-provider==0.12.2->qiskit) (1.14.0)\n",
      "Requirement already satisfied: pycparser in /home/praveen/anaconda3/lib/python3.7/site-packages (from cffi!=1.11.3,>=1.8->cryptography>=1.3->requests-ntlm>=1.1.0->qiskit-ibmq-provider==0.12.2->qiskit) (2.20)\n",
      "Requirement already satisfied: qiskit[visualization] in /home/praveen/anaconda3/lib/python3.7/site-packages (0.25.0)\n",
      "Requirement already satisfied: qiskit-aer==0.8.0 in /home/praveen/anaconda3/lib/python3.7/site-packages (from qiskit[visualization]) (0.8.0)\n",
      "Requirement already satisfied: qiskit-terra==0.17.0 in /home/praveen/anaconda3/lib/python3.7/site-packages (from qiskit[visualization]) (0.17.0)\n",
      "Requirement already satisfied: qiskit-ibmq-provider==0.12.2 in /home/praveen/anaconda3/lib/python3.7/site-packages (from qiskit[visualization]) (0.12.2)\n"
     ]
    },
    {
     "name": "stdout",
     "output_type": "stream",
     "text": [
      "Requirement already satisfied: qiskit-aqua==0.9.0 in /home/praveen/anaconda3/lib/python3.7/site-packages (from qiskit[visualization]) (0.9.0)\n",
      "Requirement already satisfied: qiskit-ignis==0.6.0 in /home/praveen/anaconda3/lib/python3.7/site-packages (from qiskit[visualization]) (0.6.0)\n",
      "Requirement already satisfied: matplotlib>=2.1; extra == \"visualization\" in /home/praveen/anaconda3/lib/python3.7/site-packages (from qiskit[visualization]) (3.3.0)\n",
      "Requirement already satisfied: ipywidgets>=7.3.0; extra == \"visualization\" in /home/praveen/anaconda3/lib/python3.7/site-packages (from qiskit[visualization]) (7.5.1)\n",
      "Requirement already satisfied: pillow>=4.2.1; extra == \"visualization\" in /home/praveen/anaconda3/lib/python3.7/site-packages (from qiskit[visualization]) (7.2.0)\n",
      "Requirement already satisfied: pygments>=2.4; extra == \"visualization\" in /home/praveen/anaconda3/lib/python3.7/site-packages (from qiskit[visualization]) (2.7.1)\n",
      "Requirement already satisfied: seaborn>=0.9.0; extra == \"visualization\" in /home/praveen/anaconda3/lib/python3.7/site-packages (from qiskit[visualization]) (0.11.0)\n",
      "Requirement already satisfied: pylatexenc>=1.4; extra == \"visualization\" in /home/praveen/anaconda3/lib/python3.7/site-packages (from qiskit[visualization]) (2.6)\n",
      "Requirement already satisfied: pydot; extra == \"visualization\" in /home/praveen/anaconda3/lib/python3.7/site-packages (from qiskit[visualization]) (1.4.1)\n",
      "Requirement already satisfied: pybind11>=2.6 in /home/praveen/anaconda3/lib/python3.7/site-packages (from qiskit-aer==0.8.0->qiskit[visualization]) (2.6.2)\n",
      "Requirement already satisfied: scipy>=1.0 in /home/praveen/anaconda3/lib/python3.7/site-packages (from qiskit-aer==0.8.0->qiskit[visualization]) (1.5.2)\n",
      "Requirement already satisfied: numpy>=1.16.3 in /home/praveen/anaconda3/lib/python3.7/site-packages (from qiskit-aer==0.8.0->qiskit[visualization]) (1.19.1)\n",
      "Requirement already satisfied: retworkx>=0.8.0 in /home/praveen/anaconda3/lib/python3.7/site-packages (from qiskit-terra==0.17.0->qiskit[visualization]) (0.8.0)\n",
      "Requirement already satisfied: fastjsonschema>=2.10 in /home/praveen/anaconda3/lib/python3.7/site-packages (from qiskit-terra==0.17.0->qiskit[visualization]) (2.14.4)\n",
      "Requirement already satisfied: python-constraint>=1.4 in /home/praveen/anaconda3/lib/python3.7/site-packages (from qiskit-terra==0.17.0->qiskit[visualization]) (1.4.0)\n",
      "Requirement already satisfied: jsonschema>=2.6 in /home/praveen/anaconda3/lib/python3.7/site-packages (from qiskit-terra==0.17.0->qiskit[visualization]) (3.2.0)\n",
      "Requirement already satisfied: ply>=3.10 in /home/praveen/anaconda3/lib/python3.7/site-packages (from qiskit-terra==0.17.0->qiskit[visualization]) (3.11)\n",
      "Requirement already satisfied: sympy>=1.3 in /home/praveen/anaconda3/lib/python3.7/site-packages (from qiskit-terra==0.17.0->qiskit[visualization]) (1.6.2)\n",
      "Requirement already satisfied: python-dateutil>=2.8.0 in /home/praveen/anaconda3/lib/python3.7/site-packages (from qiskit-terra==0.17.0->qiskit[visualization]) (2.8.1)\n",
      "Requirement already satisfied: dill>=0.3 in /home/praveen/anaconda3/lib/python3.7/site-packages (from qiskit-terra==0.17.0->qiskit[visualization]) (0.3.1.1)\n",
      "Requirement already satisfied: psutil>=5 in /home/praveen/anaconda3/lib/python3.7/site-packages (from qiskit-terra==0.17.0->qiskit[visualization]) (5.7.2)\n",
      "Requirement already satisfied: requests-ntlm>=1.1.0 in /home/praveen/anaconda3/lib/python3.7/site-packages (from qiskit-ibmq-provider==0.12.2->qiskit[visualization]) (1.1.0)\n",
      "Requirement already satisfied: urllib3>=1.21.1 in /home/praveen/anaconda3/lib/python3.7/site-packages (from qiskit-ibmq-provider==0.12.2->qiskit[visualization]) (1.25.10)\n",
      "Requirement already satisfied: nest-asyncio!=1.1.0,>=1.0.0 in /home/praveen/anaconda3/lib/python3.7/site-packages (from qiskit-ibmq-provider==0.12.2->qiskit[visualization]) (1.4.1)\n",
      "Requirement already satisfied: requests>=2.19 in /home/praveen/anaconda3/lib/python3.7/site-packages (from qiskit-ibmq-provider==0.12.2->qiskit[visualization]) (2.24.0)\n",
      "Requirement already satisfied: websockets>=8 in /home/praveen/anaconda3/lib/python3.7/site-packages (from qiskit-ibmq-provider==0.12.2->qiskit[visualization]) (8.1)\n",
      "Requirement already satisfied: setuptools>=40.1.0 in /home/praveen/anaconda3/lib/python3.7/site-packages (from qiskit-aqua==0.9.0->qiskit[visualization]) (50.3.0.post20201006)\n",
      "Requirement already satisfied: scikit-learn<=0.24.1,>=0.20.0 in /home/praveen/anaconda3/lib/python3.7/site-packages (from qiskit-aqua==0.9.0->qiskit[visualization]) (0.22.1)\n",
      "Requirement already satisfied: fastdtw<=0.3.4 in /home/praveen/anaconda3/lib/python3.7/site-packages (from qiskit-aqua==0.9.0->qiskit[visualization]) (0.3.4)\n",
      "Requirement already satisfied: h5py<=3.1.0 in /home/praveen/anaconda3/lib/python3.7/site-packages (from qiskit-aqua==0.9.0->qiskit[visualization]) (2.10.0)\n",
      "Requirement already satisfied: quandl<=3.6.0 in /home/praveen/anaconda3/lib/python3.7/site-packages (from qiskit-aqua==0.9.0->qiskit[visualization]) (3.5.0)\n",
      "Requirement already satisfied: pandas<=1.2.3 in /home/praveen/anaconda3/lib/python3.7/site-packages (from qiskit-aqua==0.9.0->qiskit[visualization]) (1.1.3)\n",
      "Requirement already satisfied: docplex<=2.20.204; sys_platform != \"darwin\" in /home/praveen/anaconda3/lib/python3.7/site-packages (from qiskit-aqua==0.9.0->qiskit[visualization]) (2.13.184)\n",
      "Requirement already satisfied: dlx<=1.0.4 in /home/praveen/anaconda3/lib/python3.7/site-packages (from qiskit-aqua==0.9.0->qiskit[visualization]) (1.0.4)\n",
      "Requirement already satisfied: yfinance<=0.1.55 in /home/praveen/anaconda3/lib/python3.7/site-packages (from qiskit-aqua==0.9.0->qiskit[visualization]) (0.1.54)\n",
      "Requirement already satisfied: kiwisolver>=1.0.1 in /home/praveen/anaconda3/lib/python3.7/site-packages (from matplotlib>=2.1; extra == \"visualization\"->qiskit[visualization]) (1.2.0)\n",
      "Requirement already satisfied: cycler>=0.10 in /home/praveen/anaconda3/lib/python3.7/site-packages (from matplotlib>=2.1; extra == \"visualization\"->qiskit[visualization]) (0.10.0)\n",
      "Requirement already satisfied: pyparsing!=2.0.4,!=2.1.2,!=2.1.6,>=2.0.3 in /home/praveen/anaconda3/lib/python3.7/site-packages (from matplotlib>=2.1; extra == \"visualization\"->qiskit[visualization]) (2.4.7)\n",
      "Requirement already satisfied: ipykernel>=4.5.1 in /home/praveen/anaconda3/lib/python3.7/site-packages (from ipywidgets>=7.3.0; extra == \"visualization\"->qiskit[visualization]) (5.1.4)\n",
      "Requirement already satisfied: ipython>=4.0.0; python_version >= \"3.3\" in /home/praveen/anaconda3/lib/python3.7/site-packages (from ipywidgets>=7.3.0; extra == \"visualization\"->qiskit[visualization]) (7.18.1)\n",
      "Requirement already satisfied: nbformat>=4.2.0 in /home/praveen/anaconda3/lib/python3.7/site-packages (from ipywidgets>=7.3.0; extra == \"visualization\"->qiskit[visualization]) (5.0.7)\n",
      "Requirement already satisfied: traitlets>=4.3.1 in /home/praveen/anaconda3/lib/python3.7/site-packages (from ipywidgets>=7.3.0; extra == \"visualization\"->qiskit[visualization]) (4.3.3)\n",
      "Requirement already satisfied: widgetsnbextension~=3.5.0 in /home/praveen/anaconda3/lib/python3.7/site-packages (from ipywidgets>=7.3.0; extra == \"visualization\"->qiskit[visualization]) (3.5.1)\n",
      "Requirement already satisfied: importlib-metadata; python_version < \"3.8\" in /home/praveen/anaconda3/lib/python3.7/site-packages (from jsonschema>=2.6->qiskit-terra==0.17.0->qiskit[visualization]) (1.7.0)\n",
      "Requirement already satisfied: pyrsistent>=0.14.0 in /home/praveen/anaconda3/lib/python3.7/site-packages (from jsonschema>=2.6->qiskit-terra==0.17.0->qiskit[visualization]) (0.17.3)\n",
      "Requirement already satisfied: attrs>=17.4.0 in /home/praveen/anaconda3/lib/python3.7/site-packages (from jsonschema>=2.6->qiskit-terra==0.17.0->qiskit[visualization]) (20.2.0)\n",
      "Requirement already satisfied: six>=1.11.0 in /home/praveen/anaconda3/lib/python3.7/site-packages (from jsonschema>=2.6->qiskit-terra==0.17.0->qiskit[visualization]) (1.15.0)\n",
      "Requirement already satisfied: mpmath>=0.19 in /home/praveen/anaconda3/lib/python3.7/site-packages (from sympy>=1.3->qiskit-terra==0.17.0->qiskit[visualization]) (1.1.0)\n",
      "Requirement already satisfied: cryptography>=1.3 in /home/praveen/anaconda3/lib/python3.7/site-packages (from requests-ntlm>=1.1.0->qiskit-ibmq-provider==0.12.2->qiskit[visualization]) (3.1.1)\n",
      "Requirement already satisfied: ntlm-auth>=1.0.2 in /home/praveen/anaconda3/lib/python3.7/site-packages (from requests-ntlm>=1.1.0->qiskit-ibmq-provider==0.12.2->qiskit[visualization]) (1.4.0)\n",
      "Requirement already satisfied: idna<3,>=2.5 in /home/praveen/anaconda3/lib/python3.7/site-packages (from requests>=2.19->qiskit-ibmq-provider==0.12.2->qiskit[visualization]) (2.10)\n",
      "Requirement already satisfied: certifi>=2017.4.17 in /home/praveen/anaconda3/lib/python3.7/site-packages (from requests>=2.19->qiskit-ibmq-provider==0.12.2->qiskit[visualization]) (2020.6.20)\n",
      "Requirement already satisfied: chardet<4,>=3.0.2 in /home/praveen/anaconda3/lib/python3.7/site-packages (from requests>=2.19->qiskit-ibmq-provider==0.12.2->qiskit[visualization]) (3.0.4)\n",
      "Requirement already satisfied: joblib>=0.11 in /home/praveen/anaconda3/lib/python3.7/site-packages (from scikit-learn<=0.24.1,>=0.20.0->qiskit-aqua==0.9.0->qiskit[visualization]) (0.17.0)\n"
     ]
    },
    {
     "name": "stdout",
     "output_type": "stream",
     "text": [
      "Requirement already satisfied: inflection>=0.3.1 in /home/praveen/anaconda3/lib/python3.7/site-packages (from quandl<=3.6.0->qiskit-aqua==0.9.0->qiskit[visualization]) (0.3.1)\n",
      "Requirement already satisfied: more-itertools in /home/praveen/anaconda3/lib/python3.7/site-packages (from quandl<=3.6.0->qiskit-aqua==0.9.0->qiskit[visualization]) (8.5.0)\n",
      "Requirement already satisfied: pytz>=2017.2 in /home/praveen/anaconda3/lib/python3.7/site-packages (from pandas<=1.2.3->qiskit-aqua==0.9.0->qiskit[visualization]) (2020.1)\n",
      "Requirement already satisfied: multitasking>=0.0.7 in /home/praveen/anaconda3/lib/python3.7/site-packages (from yfinance<=0.1.55->qiskit-aqua==0.9.0->qiskit[visualization]) (0.0.9)\n",
      "Requirement already satisfied: jupyter-client in /home/praveen/anaconda3/lib/python3.7/site-packages (from ipykernel>=4.5.1->ipywidgets>=7.3.0; extra == \"visualization\"->qiskit[visualization]) (6.1.7)\n",
      "Requirement already satisfied: tornado>=4.2 in /home/praveen/anaconda3/lib/python3.7/site-packages (from ipykernel>=4.5.1->ipywidgets>=7.3.0; extra == \"visualization\"->qiskit[visualization]) (6.0.4)\n",
      "Requirement already satisfied: decorator in /home/praveen/anaconda3/lib/python3.7/site-packages (from ipython>=4.0.0; python_version >= \"3.3\"->ipywidgets>=7.3.0; extra == \"visualization\"->qiskit[visualization]) (4.4.2)\n",
      "Requirement already satisfied: jedi>=0.10 in /home/praveen/anaconda3/lib/python3.7/site-packages (from ipython>=4.0.0; python_version >= \"3.3\"->ipywidgets>=7.3.0; extra == \"visualization\"->qiskit[visualization]) (0.15.2)\n",
      "Requirement already satisfied: pexpect>4.3; sys_platform != \"win32\" in /home/praveen/anaconda3/lib/python3.7/site-packages (from ipython>=4.0.0; python_version >= \"3.3\"->ipywidgets>=7.3.0; extra == \"visualization\"->qiskit[visualization]) (4.8.0)\n",
      "Requirement already satisfied: pickleshare in /home/praveen/anaconda3/lib/python3.7/site-packages (from ipython>=4.0.0; python_version >= \"3.3\"->ipywidgets>=7.3.0; extra == \"visualization\"->qiskit[visualization]) (0.7.5)\n",
      "Requirement already satisfied: prompt-toolkit!=3.0.0,!=3.0.1,<3.1.0,>=2.0.0 in /home/praveen/anaconda3/lib/python3.7/site-packages (from ipython>=4.0.0; python_version >= \"3.3\"->ipywidgets>=7.3.0; extra == \"visualization\"->qiskit[visualization]) (3.0.7)\n",
      "Requirement already satisfied: backcall in /home/praveen/anaconda3/lib/python3.7/site-packages (from ipython>=4.0.0; python_version >= \"3.3\"->ipywidgets>=7.3.0; extra == \"visualization\"->qiskit[visualization]) (0.2.0)\n",
      "Requirement already satisfied: jupyter-core in /home/praveen/anaconda3/lib/python3.7/site-packages (from nbformat>=4.2.0->ipywidgets>=7.3.0; extra == \"visualization\"->qiskit[visualization]) (4.6.3)\n",
      "Requirement already satisfied: ipython-genutils in /home/praveen/anaconda3/lib/python3.7/site-packages (from nbformat>=4.2.0->ipywidgets>=7.3.0; extra == \"visualization\"->qiskit[visualization]) (0.2.0)\n",
      "Requirement already satisfied: notebook>=4.4.1 in /home/praveen/anaconda3/lib/python3.7/site-packages (from widgetsnbextension~=3.5.0->ipywidgets>=7.3.0; extra == \"visualization\"->qiskit[visualization]) (6.0.3)\n",
      "Requirement already satisfied: zipp>=0.5 in /home/praveen/anaconda3/lib/python3.7/site-packages (from importlib-metadata; python_version < \"3.8\"->jsonschema>=2.6->qiskit-terra==0.17.0->qiskit[visualization]) (3.3.0)\n",
      "Requirement already satisfied: cffi!=1.11.3,>=1.8 in /home/praveen/anaconda3/lib/python3.7/site-packages (from cryptography>=1.3->requests-ntlm>=1.1.0->qiskit-ibmq-provider==0.12.2->qiskit[visualization]) (1.14.0)\n",
      "Requirement already satisfied: pyzmq>=13 in /home/praveen/anaconda3/lib/python3.7/site-packages (from jupyter-client->ipykernel>=4.5.1->ipywidgets>=7.3.0; extra == \"visualization\"->qiskit[visualization]) (19.0.2)\n",
      "Requirement already satisfied: parso>=0.5.2 in /home/praveen/anaconda3/lib/python3.7/site-packages (from jedi>=0.10->ipython>=4.0.0; python_version >= \"3.3\"->ipywidgets>=7.3.0; extra == \"visualization\"->qiskit[visualization]) (0.5.2)\n",
      "Requirement already satisfied: ptyprocess>=0.5 in /home/praveen/anaconda3/lib/python3.7/site-packages (from pexpect>4.3; sys_platform != \"win32\"->ipython>=4.0.0; python_version >= \"3.3\"->ipywidgets>=7.3.0; extra == \"visualization\"->qiskit[visualization]) (0.6.0)\n",
      "Requirement already satisfied: wcwidth in /home/praveen/anaconda3/lib/python3.7/site-packages (from prompt-toolkit!=3.0.0,!=3.0.1,<3.1.0,>=2.0.0->ipython>=4.0.0; python_version >= \"3.3\"->ipywidgets>=7.3.0; extra == \"visualization\"->qiskit[visualization]) (0.2.5)\n",
      "Requirement already satisfied: terminado>=0.8.1 in /home/praveen/anaconda3/lib/python3.7/site-packages (from notebook>=4.4.1->widgetsnbextension~=3.5.0->ipywidgets>=7.3.0; extra == \"visualization\"->qiskit[visualization]) (0.8.3)\n",
      "Requirement already satisfied: nbconvert in /home/praveen/anaconda3/lib/python3.7/site-packages (from notebook>=4.4.1->widgetsnbextension~=3.5.0->ipywidgets>=7.3.0; extra == \"visualization\"->qiskit[visualization]) (6.0.7)\n",
      "Requirement already satisfied: jinja2 in /home/praveen/anaconda3/lib/python3.7/site-packages (from notebook>=4.4.1->widgetsnbextension~=3.5.0->ipywidgets>=7.3.0; extra == \"visualization\"->qiskit[visualization]) (2.11.2)\n",
      "Requirement already satisfied: Send2Trash in /home/praveen/anaconda3/lib/python3.7/site-packages (from notebook>=4.4.1->widgetsnbextension~=3.5.0->ipywidgets>=7.3.0; extra == \"visualization\"->qiskit[visualization]) (1.5.0)\n",
      "Requirement already satisfied: prometheus-client in /home/praveen/anaconda3/lib/python3.7/site-packages (from notebook>=4.4.1->widgetsnbextension~=3.5.0->ipywidgets>=7.3.0; extra == \"visualization\"->qiskit[visualization]) (0.8.0)\n",
      "Requirement already satisfied: pycparser in /home/praveen/anaconda3/lib/python3.7/site-packages (from cffi!=1.11.3,>=1.8->cryptography>=1.3->requests-ntlm>=1.1.0->qiskit-ibmq-provider==0.12.2->qiskit[visualization]) (2.20)\n",
      "Requirement already satisfied: nbclient<0.6.0,>=0.5.0 in /home/praveen/anaconda3/lib/python3.7/site-packages (from nbconvert->notebook>=4.4.1->widgetsnbextension~=3.5.0->ipywidgets>=7.3.0; extra == \"visualization\"->qiskit[visualization]) (0.5.0)\n",
      "Requirement already satisfied: mistune<2,>=0.8.1 in /home/praveen/anaconda3/lib/python3.7/site-packages (from nbconvert->notebook>=4.4.1->widgetsnbextension~=3.5.0->ipywidgets>=7.3.0; extra == \"visualization\"->qiskit[visualization]) (0.8.4)\n",
      "Requirement already satisfied: defusedxml in /home/praveen/anaconda3/lib/python3.7/site-packages (from nbconvert->notebook>=4.4.1->widgetsnbextension~=3.5.0->ipywidgets>=7.3.0; extra == \"visualization\"->qiskit[visualization]) (0.6.0)\n",
      "Requirement already satisfied: jupyterlab-pygments in /home/praveen/anaconda3/lib/python3.7/site-packages (from nbconvert->notebook>=4.4.1->widgetsnbextension~=3.5.0->ipywidgets>=7.3.0; extra == \"visualization\"->qiskit[visualization]) (0.1.2)\n",
      "Requirement already satisfied: testpath in /home/praveen/anaconda3/lib/python3.7/site-packages (from nbconvert->notebook>=4.4.1->widgetsnbextension~=3.5.0->ipywidgets>=7.3.0; extra == \"visualization\"->qiskit[visualization]) (0.4.4)\n",
      "Requirement already satisfied: bleach in /home/praveen/anaconda3/lib/python3.7/site-packages (from nbconvert->notebook>=4.4.1->widgetsnbextension~=3.5.0->ipywidgets>=7.3.0; extra == \"visualization\"->qiskit[visualization]) (3.2.1)\n",
      "Requirement already satisfied: pandocfilters>=1.4.1 in /home/praveen/anaconda3/lib/python3.7/site-packages (from nbconvert->notebook>=4.4.1->widgetsnbextension~=3.5.0->ipywidgets>=7.3.0; extra == \"visualization\"->qiskit[visualization]) (1.4.2)\n",
      "Requirement already satisfied: entrypoints>=0.2.2 in /home/praveen/anaconda3/lib/python3.7/site-packages (from nbconvert->notebook>=4.4.1->widgetsnbextension~=3.5.0->ipywidgets>=7.3.0; extra == \"visualization\"->qiskit[visualization]) (0.3)\n",
      "Requirement already satisfied: MarkupSafe>=0.23 in /home/praveen/anaconda3/lib/python3.7/site-packages (from jinja2->notebook>=4.4.1->widgetsnbextension~=3.5.0->ipywidgets>=7.3.0; extra == \"visualization\"->qiskit[visualization]) (1.1.1)\n",
      "Requirement already satisfied: async-generator in /home/praveen/anaconda3/lib/python3.7/site-packages (from nbclient<0.6.0,>=0.5.0->nbconvert->notebook>=4.4.1->widgetsnbextension~=3.5.0->ipywidgets>=7.3.0; extra == \"visualization\"->qiskit[visualization]) (1.10)\n",
      "Requirement already satisfied: webencodings in /home/praveen/anaconda3/lib/python3.7/site-packages (from bleach->nbconvert->notebook>=4.4.1->widgetsnbextension~=3.5.0->ipywidgets>=7.3.0; extra == \"visualization\"->qiskit[visualization]) (0.5.1)\n",
      "Requirement already satisfied: packaging in /home/praveen/anaconda3/lib/python3.7/site-packages (from bleach->nbconvert->notebook>=4.4.1->widgetsnbextension~=3.5.0->ipywidgets>=7.3.0; extra == \"visualization\"->qiskit[visualization]) (20.4)\n"
     ]
    },
    {
     "name": "stdout",
     "output_type": "stream",
     "text": [
      "Requirement already satisfied: numpy in /home/praveen/anaconda3/lib/python3.7/site-packages (1.19.1)\r\n"
     ]
    }
   ],
   "source": [
    "#install qiskit and numpy\n",
    "!pip install qiskit\n",
    "!pip install qiskit[visualization]\n",
    "!pip install numpy\n",
    "\n",
    "# ! is used to run terminal commands in jupyter notebook"
   ]
  },
  {
   "cell_type": "markdown",
   "metadata": {},
   "source": [
    "Now, to use qiskit simulators and other devices from the IBM quantum experience, you need to create a login in their webpage and add your API token."
   ]
  },
  {
   "cell_type": "code",
   "execution_count": 7,
   "metadata": {},
   "outputs": [
    {
     "name": "stderr",
     "output_type": "stream",
     "text": [
      "\n",
      "Bad key \"text.kerning_factor\" on line 4 in\n",
      "/home/praveen/anaconda3/lib/python3.7/site-packages/matplotlib/mpl-data/stylelib/_classic_test_patch.mplstyle.\n",
      "You probably need to get an updated matplotlibrc file from\n",
      "https://github.com/matplotlib/matplotlib/blob/v3.1.3/matplotlibrc.template\n",
      "or from the matplotlib source distribution\n",
      "configrc.store_credentials:WARNING:2021-04-27 11:20:52,784: Credentials already present. Set overwrite=True to overwrite.\n"
     ]
    },
    {
     "data": {
      "text/plain": [
       "<AccountProvider for IBMQ(hub='ibm-q', group='open', project='main')>"
      ]
     },
     "execution_count": 7,
     "metadata": {},
     "output_type": "execute_result"
    }
   ],
   "source": [
    "from qiskit import IBMQ\n",
    "IBMQ.save_account('e1ba557b1cb4d8c2b64cf2cb617621f9c198aaceb4210fce7dc3a74e057dbf40b7bd9b18069c2127df6d6daafb4c68966d87d61559f333a7d3d3a5f38150dd1d')\n",
    "IBMQ.load_account() "
   ]
  },
  {
   "cell_type": "markdown",
   "metadata": {},
   "source": [
    "### Building your first quantum circuit  \n",
    "Think of a bag with coloured balls, either |Red> or |green>. Now what if the ball can be both red and green at the same time?  \n",
    "\n",
    "The Hadamard gate converts |red> state to a superposition of both $\\frac{(|red> + |green>)}{2}$, thus a 'superposition' of both colours.  \n",
    "\n",
    "Lets start with a single Qubit, place it in superposition of |0> (red) and |1> (green) and perform measurement to observe what happens."
   ]
  },
  {
   "cell_type": "markdown",
   "metadata": {},
   "source": [
    "<img src=\"images/superposition.png\" width=\"600\">"
   ]
  },
  {
   "cell_type": "code",
   "execution_count": 23,
   "metadata": {},
   "outputs": [
    {
     "name": "stdout",
     "output_type": "stream",
     "text": [
      "\n",
      "Total count for 0 and 1 are: {'0': 515, '1': 485}\n"
     ]
    },
    {
     "data": {
      "text/html": [
       "<pre style=\"word-wrap: normal;white-space: pre;background: #fff0;line-height: 1.1;font-family: &quot;Courier New&quot;,Courier,monospace\">       ┌───┐┌─┐\n",
       "q18_0: ┤ H ├┤M├\n",
       "       └───┘└╥┘\n",
       "c18: 1/══════╩═\n",
       "             0 </pre>"
      ],
      "text/plain": [
       "       ┌───┐┌─┐\n",
       "q18_0: ┤ H ├┤M├\n",
       "       └───┘└╥┘\n",
       "c18: 1/══════╩═\n",
       "             0 "
      ]
     },
     "execution_count": 23,
     "metadata": {},
     "output_type": "execute_result"
    }
   ],
   "source": [
    "from qiskit import QuantumRegister, ClassicalRegister, QuantumCircuit\n",
    "from qiskit.providers.aer import QasmSimulator\n",
    "from qiskit.visualization import plot_histogram\n",
    "\n",
    "#make 1 qubit and 1 classical bit to measure results\n",
    "qbit = QuantumRegister(1)\n",
    "cbit = ClassicalRegister(1)\n",
    "circuit = QuantumCircuit(qbit, cbit)\n",
    "\n",
    "simulator = QasmSimulator()\n",
    "\n",
    "#adding hadamard gate\n",
    "circuit.h(qbit[0])\n",
    "\n",
    "#measure the qubit\n",
    "circuit.measure(qbit[0], cbit[0])\n",
    "\n",
    "#Execute the circuit on the qasm simulator\n",
    "job = simulator.run(circuit, shots=1000)\n",
    "\n",
    "# Grab results from the job\n",
    "result = job.result()\n",
    "\n",
    "# Returns counts as a dictionary\n",
    "counts = result.get_counts(circuit)\n",
    "print(\"\\nTotal count for 0 and 1 are:\",counts)\n",
    "\n",
    "# Draw the circuit\n",
    "circuit.draw()"
   ]
  },
  {
   "cell_type": "code",
   "execution_count": 24,
   "metadata": {},
   "outputs": [
    {
     "data": {
      "image/png": "[encoded data removed]",
      "text/plain": [
       "<Figure size 504x360 with 1 Axes>"
      ]
     },
     "execution_count": 24,
     "metadata": {},
     "output_type": "execute_result"
    }
   ],
   "source": [
    "plot_histogram(counts)"
   ]
  },
  {
   "cell_type": "markdown",
   "metadata": {},
   "source": [
    "You can see that half of the time the ball is measured to 0 and half to 1. A measurement is like checking the colour of the ball, if it is red **or** green which gives us classical information about the ball. Before measurement, the ball is both red **and** green.\n",
    "\n",
    "Here, 'shots' indicates the number of times the circuit is repeated to obtain the distribution. For quantum circuits, the results are usually probability distribution, so to estimate these, we need to run the circuit multiple times. It's like repeatedly making a superposition of balls and checking the colour.  \n",
    "\n",
    "Before we go ahead, let's revise the notation we used here. |.> is called a Dirac Ket and represents a quantum state/system. |0>, |1> are two classical 0/1 states and in quantum, we also have states like $a|0> + b|1>$ for $|a|^2 + |b|^2 = 1$. $|a|^2$ and $|b|^2$ act as probabilities of states |0> and |1> when measured.  \n",
    "\n",
    "We represent this state as a vector $\\begin{bmatrix} a \\\\ b\\end{bmatrix}$ where a and b are complex numbers. Operations on a vector can be represented by a matrix. We will see these again later when we discuss linear algebra.  \n",
    "\n",
    "In the above circuit, we introduced the hadamard gate. Similarly, we have two other simple gates, the X and Z gates. X gate swaps a and b $$a|0> + b|1> \\rightarrow b|0> + a|1>$$ and Z gate adds a (-) to |1> $$a|0> + b|1> \\rightarrow a|0> - b|1>.$$\n",
    "\n",
    "Now let's try to entangle two balls and see what happens! "
   ]
  },
  {
   "cell_type": "markdown",
   "metadata": {},
   "source": [
    "### Understanding entanglement  \n",
    "Take two balls, both are |red> initially. Now we apply a Hadamard and put them in superposition individually.  $$|red>|red> => \\frac{(|red> + |green>)}{\\sqrt{2}}\\frac{(|red> + |green>)}{\\sqrt{2}}$$\n",
    "\n",
    "This state is not entangled. Lets see what measurement gives us:"
   ]
  },
  {
   "cell_type": "code",
   "execution_count": 25,
   "metadata": {},
   "outputs": [
    {
     "data": {
      "text/html": [
       "<pre style=\"word-wrap: normal;white-space: pre;background: #fff0;line-height: 1.1;font-family: &quot;Courier New&quot;,Courier,monospace\">       ┌───┐┌─┐   \n",
       "q19_0: ┤ H ├┤M├───\n",
       "       ├───┤└╥┘┌─┐\n",
       "q19_1: ┤ H ├─╫─┤M├\n",
       "       └───┘ ║ └╥┘\n",
       "c19: 2/══════╩══╩═\n",
       "             0  1 </pre>"
      ],
      "text/plain": [
       "       ┌───┐┌─┐   \n",
       "q19_0: ┤ H ├┤M├───\n",
       "       ├───┤└╥┘┌─┐\n",
       "q19_1: ┤ H ├─╫─┤M├\n",
       "       └───┘ ║ └╥┘\n",
       "c19: 2/══════╩══╩═\n",
       "             0  1 "
      ]
     },
     "execution_count": 25,
     "metadata": {},
     "output_type": "execute_result"
    }
   ],
   "source": [
    "qbits = QuantumRegister(2)\n",
    "cbits = ClassicalRegister(2)\n",
    "circuit2 = QuantumCircuit(qbits, cbits)\n",
    "\n",
    "circuit2.h(qbits)\n",
    "circuit2.measure(qbits, cbits)\n",
    "circuit2.draw()"
   ]
  },
  {
   "cell_type": "code",
   "execution_count": 26,
   "metadata": {},
   "outputs": [
    {
     "data": {
      "image/png": "[encoded data removed]",
      "text/plain": [
       "<Figure size 504x360 with 1 Axes>"
      ]
     },
     "execution_count": 26,
     "metadata": {},
     "output_type": "execute_result"
    }
   ],
   "source": [
    "job2 = simulator.run(circuit2, shots=1000)\n",
    "\n",
    "result2 = job2.result()\n",
    "\n",
    "count = result2.get_counts(circuit2)\n",
    "\n",
    "plot_histogram(count)"
   ]
  },
  {
   "cell_type": "markdown",
   "metadata": {},
   "source": [
    "We see that we get an (almost) equal probability of colours (00, 01, 10, 11). Now lets introduce entanglement using a gate called CNOT, a controlled NOT gate (Also written as CX gate). \n",
    "\n",
    "When we apply a CNOT gate on the second ball controlled on the first ball, it changes the second ball colour based on the first ball on which is is applied on. This makes the balls entangled."
   ]
  },
  {
   "cell_type": "code",
   "execution_count": 27,
   "metadata": {},
   "outputs": [
    {
     "data": {
      "text/html": [
       "<pre style=\"word-wrap: normal;white-space: pre;background: #fff0;line-height: 1.1;font-family: &quot;Courier New&quot;,Courier,monospace\">       ┌───┐     ┌─┐   \n",
       "q20_0: ┤ H ├──■──┤M├───\n",
       "       └───┘┌─┴─┐└╥┘┌─┐\n",
       "q20_1: ─────┤ X ├─╫─┤M├\n",
       "            └───┘ ║ └╥┘\n",
       "c20: 2/═══════════╩══╩═\n",
       "                  0  1 </pre>"
      ],
      "text/plain": [
       "       ┌───┐     ┌─┐   \n",
       "q20_0: ┤ H ├──■──┤M├───\n",
       "       └───┘┌─┴─┐└╥┘┌─┐\n",
       "q20_1: ─────┤ X ├─╫─┤M├\n",
       "            └───┘ ║ └╥┘\n",
       "c20: 2/═══════════╩══╩═\n",
       "                  0  1 "
      ]
     },
     "execution_count": 27,
     "metadata": {},
     "output_type": "execute_result"
    }
   ],
   "source": [
    "qbits = QuantumRegister(2)\n",
    "cbits = ClassicalRegister(2)\n",
    "circuit3 = QuantumCircuit(qbits, cbits)\n",
    "\n",
    "circuit3.h(qbits[0])\n",
    "circuit3.cx(qbits[0], qbits[1])\n",
    "circuit3.measure(qbits, cbits)\n",
    "circuit3.draw()"
   ]
  },
  {
   "cell_type": "code",
   "execution_count": 28,
   "metadata": {},
   "outputs": [
    {
     "data": {
      "image/png": "[encoded data removed]",
      "text/plain": [
       "<Figure size 504x360 with 1 Axes>"
      ]
     },
     "execution_count": 28,
     "metadata": {},
     "output_type": "execute_result"
    }
   ],
   "source": [
    "job3 = simulator.run(circuit3, shots=1000)\n",
    "\n",
    "result3 = job3.result()\n",
    "\n",
    "count3 = result3.get_counts(circuit3)\n",
    "\n",
    "plot_histogram(count3)"
   ]
  },
  {
   "cell_type": "markdown",
   "metadata": {},
   "source": [
    "<img src=\"images/entanglement.png\" width=\"600\">"
   ]
  },
  {
   "cell_type": "markdown",
   "metadata": {},
   "source": [
    "Remarkably, we only get |00> and |11> state. it's like when first ball is measured to red, the second ball is always red and similarly for green. These states are entangled and influence each other. This state is called the bell state. There are four varieties of bell states."
   ]
  },
  {
   "cell_type": "code",
   "execution_count": null,
   "metadata": {},
   "outputs": [],
   "source": []
  }
 ],
 "metadata": {
  "kernelspec": {
   "display_name": "Python 3",
   "language": "python",
   "name": "python3"
  },
  "language_info": {
   "codemirror_mode": {
    "name": "ipython",
    "version": 3
   },
   "file_extension": ".py",
   "mimetype": "text/x-python",
   "name": "python",
   "nbconvert_exporter": "python",
   "pygments_lexer": "ipython3",
   "version": "3.7.6"
  }
 },
 "nbformat": 4,
 "nbformat_minor": 4
}
